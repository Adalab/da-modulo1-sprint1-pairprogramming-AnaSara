{
 "cells": [
  {
   "cell_type": "markdown",
   "metadata": {},
   "source": [
    "Ejercicios diccionarios\n",
    "Crear un diccionario vacío\n",
    "Descripción: Crea un diccionario vacío sin ningún par clave-valor.\n",
    "Crear un diccionario con elementos\n",
    "Descripción: Crea un diccionario con pares clave-valor predefinidos. Definir el diccionario con las claves y valores que querais. NOTA El diccionario debe tener al menos 5 pares de clave:valor.\n",
    "Acceder al valor de una clave en un diccionario\n",
    "Descripción: Usando el diccionario creado en el paso anterior, obtén el valor correspondiente a una clave específica que indique el usuario (debereis usar la función input() para preguntar al usuario).\n",
    "Agregar un nuevo par clave-valor a un diccionario\n",
    "Descripción: Usando el diccionario creado en el ejercicio 2, agrega un nuevo par clave-valor.\n",
    "Actualizar el valor de una clave en un diccionario\n",
    "Descripción: Usando el diccionario creado en el ejercicio 2, actualiza el valor correspondiente a una clave existente. Ejemplo:\n",
    "# dado el siguiente diccionario\n",
    "{'nombre': 'Ana', 'edad': 25, 'ciudad': 'Madrid', 'hijos': 1}\n",
    "\n",
    "# el ouptut esperado es: (ha cambiado el valor de la clave edad)\n",
    "{'nombre': 'Ana', 'edad': 40, 'ciudad': 'Madrid', 'hijos': 1}\n",
    "Eliminar un par clave-valor de un diccionario\n",
    "Descripción: Usando el diccionario creado en el ejercicio 2, elimina un par clave-valor específico que indique el usuario (debereis usar la función input() para preguntar al usuario).\n",
    "Verificar si una clave está presente en un diccionario\n",
    "Descripción: Usando el diccionario creado en el ejercicio 2, verifica si una clave específica está presente en él. La clave a buscar debe ser pasada por el usuario, debereis usar un input().\n",
    "Obtener una lista de todas las claves de un diccionario\n",
    "Descripción: Usando el diccionario creado en el ejercicio 2, obtén una lista con todas las claves que contiene.\n",
    "Obtener una lista de todos los valores de un diccionario\n",
    "Descripción: Usando el diccionario creado en el ejercicio 2, obtén una lista con todos los valores que contiene.\n",
    "Utilizar el método setdefault() para establecer un valor predeterminado si la clave no existe\n",
    "Descripción: Usando el diccionario creado en el ejercicio 2, obten el valor correspondiente a una clave. Si la clave no existe, establece un valor predeterminado y devuelve dicho valor.\n",
    "Manipulación de un diccionario utilizando pop() y popitem()\n",
    "Descripción: Usando el diccionario creado en el ejercicio 2, realiza operaciones de eliminación utilizando pop() y popitem(), y observa cómo afectan al diccionario.\n",
    "Ejercicios sets\n",
    "Crear un conjunto vacío\n",
    "Descripción: Crea un conjunto vacío sin ningún elemento.\n",
    "Crear un conjunto con elementos\n",
    "Descripción: Crea un conjunto con elementos predefinidos.\n",
    "Agregar elementos a un conjunto\n",
    "Descripción: Usando el set creado en el ejercicio 2, agrega nuevos elementos. Debereis agregar por separado:\n",
    "Un elemento solo\n",
    "Un par de elementos a la vez.\n",
    "Eliminar un elemento de un conjunto\n",
    "Descripción: Usando el set creado en el ejercicio 2, elimina un elemento especificado por el usuario.\n",
    "Verificar la pertenencia de un elemento en un conjunto\n",
    "Descripción: Usando el set creado en el ejercicio 2, verifica si un elemento específico está presente en él.\n",
    "Realizar una unión de conjuntos\n",
    "Descripción: Dados dos conjuntos, realiza una unión de ellos.\n",
    "Realizar una intersección de conjuntos\n",
    "Descripción: Usando dos conjuntos de datos definidos en el ejercicio anterior, realiza una intersección de ellos.\n",
    "Realizar una diferencia de conjuntos\n",
    "Descripción: Usando dos conjuntos de datos definidos en el ejercicio anterior, realiza una diferencia entre ellos.\n",
    "Verificar si un conjunto es subconjunto de otro\n",
    "Descripción: Dados dos conjuntos, verifica si uno es subconjunto del otro."
   ]
  },
  {
   "cell_type": "code",
   "execution_count": 5,
   "metadata": {},
   "outputs": [
    {
     "ename": "SyntaxError",
     "evalue": "invalid syntax (1369518180.py, line 1)",
     "output_type": "error",
     "traceback": [
      "\u001b[0;36m  File \u001b[0;32m\"/tmp/ipykernel_13819/1369518180.py\"\u001b[0;36m, line \u001b[0;32m1\u001b[0m\n\u001b[0;31m    Ejercicios diccionarios\u001b[0m\n\u001b[0m               ^\u001b[0m\n\u001b[0;31mSyntaxError\u001b[0m\u001b[0;31m:\u001b[0m invalid syntax\n"
     ]
    }
   ],
   "source": [
    "Ejercicios diccionarios\n",
    "Crear un diccionario vacío"
   ]
  },
  {
   "cell_type": "code",
   "execution_count": 6,
   "metadata": {},
   "outputs": [
    {
     "name": "stdout",
     "output_type": "stream",
     "text": [
      "el diccionario vacío es {}\n"
     ]
    }
   ],
   "source": [
    "diccionario = {}\n",
    "print('el diccionario vacío es', diccionario)"
   ]
  },
  {
   "cell_type": "markdown",
   "metadata": {},
   "source": [
    "Crear un diccionario con elementos\n",
    "Descripción: Crea un diccionario con pares clave-valor predefinidos. Definir el diccionario con las claves y valores que querais. NOTA El diccionario debe tener al menos 5 pares de clave:valor."
   ]
  },
  {
   "cell_type": "code",
   "execution_count": 7,
   "metadata": {},
   "outputs": [
    {
     "name": "stdout",
     "output_type": "stream",
     "text": [
      "el diccionario coche es {'Marca': 'Renault', 'Puertas': 5, 'Modelo': 'Megan', 'Color': 'Gris', 'Cv': 105}\n"
     ]
    }
   ],
   "source": [
    "coche = {'Marca':'Renault', 'Puertas':5, 'Modelo':'Megan', 'Color':'Gris', 'Cv': 105}\n",
    "print('el diccionario coche es', coche)"
   ]
  },
  {
   "cell_type": "markdown",
   "metadata": {},
   "source": [
    "Acceder al valor de una clave en un diccionario\n",
    "Descripción: Usando el diccionario creado en el paso anterior, obtén el valor correspondiente a una clave específica que indique el usuario (debereis usar la función input() para preguntar al usuario)."
   ]
  },
  {
   "cell_type": "code",
   "execution_count": 8,
   "metadata": {},
   "outputs": [
    {
     "data": {
      "text/plain": [
       "105"
      ]
     },
     "execution_count": 8,
     "metadata": {},
     "output_type": "execute_result"
    }
   ],
   "source": [
    "clave = input('¿Qué clave quieres buscar?')\n",
    "coche.get(clave, 'La clave no existe')"
   ]
  },
  {
   "cell_type": "markdown",
   "metadata": {},
   "source": [
    "Agregar un nuevo par clave-valor a un diccionario\n",
    "Descripción: Usando el diccionario creado en el ejercicio 2, agrega un nuevo par clave-valor."
   ]
  },
  {
   "cell_type": "code",
   "execution_count": 9,
   "metadata": {},
   "outputs": [
    {
     "data": {
      "text/plain": [
       "{'Marca': 'Renault',\n",
       " 'Puertas': 5,\n",
       " 'Modelo': 'Megan',\n",
       " 'Color': 'Gris',\n",
       " 'Cv': 105,\n",
       " 'Automático': False}"
      ]
     },
     "execution_count": 9,
     "metadata": {},
     "output_type": "execute_result"
    }
   ],
   "source": [
    "coche['Automático'] = False\n",
    "coche"
   ]
  },
  {
   "cell_type": "markdown",
   "metadata": {},
   "source": [
    "Actualizar el valor de una clave en un diccionario\n",
    "Descripción: Usando el diccionario creado en el ejercicio 2, actualiza el valor correspondiente a una clave existente. Ejemplo:\n",
    "# dado el siguiente diccionario\n",
    "{'nombre': 'Ana', 'edad': 25, 'ciudad': 'Madrid', 'hijos': 1}"
   ]
  },
  {
   "cell_type": "code",
   "execution_count": 10,
   "metadata": {},
   "outputs": [
    {
     "data": {
      "text/plain": [
       "{'Marca': 'Renault',\n",
       " 'Puertas': 5,\n",
       " 'Modelo': 'Megan',\n",
       " 'Color': 'Verde',\n",
       " 'Cv': 105,\n",
       " 'Automático': False}"
      ]
     },
     "execution_count": 10,
     "metadata": {},
     "output_type": "execute_result"
    }
   ],
   "source": [
    "coche['Color'] = 'Verde'\n",
    "coche"
   ]
  },
  {
   "cell_type": "markdown",
   "metadata": {},
   "source": [
    "Eliminar un par clave-valor de un diccionario\n",
    "Descripción: Usando el diccionario creado en el ejercicio 2, elimina un par clave-valor específico que indique el usuario (debereis usar la función input() para preguntar al usuario)."
   ]
  },
  {
   "cell_type": "code",
   "execution_count": 12,
   "metadata": {},
   "outputs": [
    {
     "data": {
      "text/plain": [
       "105"
      ]
     },
     "execution_count": 12,
     "metadata": {},
     "output_type": "execute_result"
    }
   ],
   "source": [
    "eliminar = input('¿Qué clave quieres eliminar?')\n",
    "coche.pop(eliminar)"
   ]
  },
  {
   "cell_type": "code",
   "execution_count": 13,
   "metadata": {},
   "outputs": [
    {
     "data": {
      "text/plain": [
       "{'Marca': 'Renault',\n",
       " 'Puertas': 5,\n",
       " 'Modelo': 'Megan',\n",
       " 'Color': 'Verde',\n",
       " 'Automático': False}"
      ]
     },
     "execution_count": 13,
     "metadata": {},
     "output_type": "execute_result"
    }
   ],
   "source": [
    "coche"
   ]
  },
  {
   "cell_type": "markdown",
   "metadata": {},
   "source": [
    "Verificar si una clave está presente en un diccionario\n",
    "Descripción: Usando el diccionario creado en el ejercicio 2, verifica si una clave específica está presente en él. La clave a buscar debe ser pasada por el usuario, debereis usar un input()."
   ]
  },
  {
   "cell_type": "code",
   "execution_count": 15,
   "metadata": {},
   "outputs": [
    {
     "data": {
      "text/plain": [
       "'Renault'"
      ]
     },
     "execution_count": 15,
     "metadata": {},
     "output_type": "execute_result"
    }
   ],
   "source": [
    "clave1 = input('¿Qué clave quieres buscar?')\n",
    "coche.get(clave, 'La clave no existe')"
   ]
  },
  {
   "cell_type": "markdown",
   "metadata": {},
   "source": [
    "Obtener una lista de todas las claves de un diccionario\n",
    "Descripción: Usando el diccionario creado en el ejercicio 2, obtén una lista con todas las claves que contiene."
   ]
  },
  {
   "cell_type": "code",
   "execution_count": 16,
   "metadata": {},
   "outputs": [
    {
     "data": {
      "text/plain": [
       "dict_keys(['Marca', 'Puertas', 'Modelo', 'Color', 'Automático'])"
      ]
     },
     "execution_count": 16,
     "metadata": {},
     "output_type": "execute_result"
    }
   ],
   "source": [
    "coche.keys()"
   ]
  },
  {
   "cell_type": "markdown",
   "metadata": {},
   "source": [
    "Obtener una lista de todos los valores de un diccionario\n",
    "Descripción: Usando el diccionario creado en el ejercicio 2, obtén una lista con todos los valores que contiene."
   ]
  },
  {
   "cell_type": "code",
   "execution_count": 17,
   "metadata": {},
   "outputs": [
    {
     "data": {
      "text/plain": [
       "dict_values(['Renault', 5, 'Megan', 'Verde', False])"
      ]
     },
     "execution_count": 17,
     "metadata": {},
     "output_type": "execute_result"
    }
   ],
   "source": [
    "coche.values()"
   ]
  },
  {
   "cell_type": "markdown",
   "metadata": {},
   "source": [
    "Utilizar el método setdefault() para establecer un valor predeterminado si la clave no existe\n",
    "Descripción: Usando el diccionario creado en el ejercicio 2, obten el valor correspondiente a una clave. Si la clave no existe, establece un valor predeterminado y devuelve dicho valor."
   ]
  },
  {
   "cell_type": "code",
   "execution_count": 19,
   "metadata": {},
   "outputs": [
    {
     "data": {
      "text/plain": [
       "{'Marca': 'Renault',\n",
       " 'Puertas': 5,\n",
       " 'Modelo': 'Megan',\n",
       " 'Color': 'Verde',\n",
       " 'Automático': False,\n",
       " 'Cv': 105}"
      ]
     },
     "execution_count": 19,
     "metadata": {},
     "output_type": "execute_result"
    }
   ],
   "source": [
    "coche.setdefault('Cv', 105)\n",
    "coche"
   ]
  },
  {
   "cell_type": "markdown",
   "metadata": {},
   "source": [
    "Manipulación de un diccionario utilizando pop() y popitem()\n",
    "Descripción: Usando el diccionario creado en el ejercicio 2, realiza operaciones de eliminación utilizando pop() y popitem(), y observa cómo afectan al diccionario."
   ]
  },
  {
   "cell_type": "code",
   "execution_count": 23,
   "metadata": {},
   "outputs": [
    {
     "ename": "KeyError",
     "evalue": "'Puertas'",
     "output_type": "error",
     "traceback": [
      "\u001b[0;31m---------------------------------------------------------------------------\u001b[0m",
      "\u001b[0;31mKeyError\u001b[0m                                  Traceback (most recent call last)",
      "\u001b[0;32m/tmp/ipykernel_13819/643880636.py\u001b[0m in \u001b[0;36m<module>\u001b[0;34m\u001b[0m\n\u001b[0;32m----> 1\u001b[0;31m \u001b[0mcoche\u001b[0m\u001b[0;34m.\u001b[0m\u001b[0mpop\u001b[0m\u001b[0;34m(\u001b[0m\u001b[0;34m'Puertas'\u001b[0m\u001b[0;34m)\u001b[0m\u001b[0;34m\u001b[0m\u001b[0;34m\u001b[0m\u001b[0m\n\u001b[0m",
      "\u001b[0;31mKeyError\u001b[0m: 'Puertas'"
     ]
    }
   ],
   "source": [
    "coche.pop('Puertas')"
   ]
  },
  {
   "cell_type": "code",
   "execution_count": 24,
   "metadata": {},
   "outputs": [
    {
     "data": {
      "text/plain": [
       "{'Marca': 'Renault', 'Modelo': 'Megan', 'Color': 'Verde', 'Automático': False}"
      ]
     },
     "execution_count": 24,
     "metadata": {},
     "output_type": "execute_result"
    }
   ],
   "source": [
    "coche.popitem()\n",
    "coche"
   ]
  },
  {
   "cell_type": "markdown",
   "metadata": {},
   "source": [
    "# Ejercicios sets\n",
    "Crear un conjunto vacío\n",
    "Descripción: Crea un conjunto vacío sin ningún elemento."
   ]
  },
  {
   "cell_type": "code",
   "execution_count": 25,
   "metadata": {},
   "outputs": [],
   "source": [
    "conjunto = {}"
   ]
  },
  {
   "cell_type": "markdown",
   "metadata": {},
   "source": [
    "Crear un conjunto con elementos\n",
    "Descripción: Crea un conjunto con elementos predefinidos."
   ]
  },
  {
   "cell_type": "code",
   "execution_count": 26,
   "metadata": {},
   "outputs": [],
   "source": [
    "pares = {2,4,6,8,10}"
   ]
  },
  {
   "cell_type": "markdown",
   "metadata": {},
   "source": [
    "Agregar elementos a un conjunto\n",
    "Descripción: Usando el set creado en el ejercicio 2, agrega nuevos elementos. Debereis agregar por separado:\n",
    "Un elemento solo\n",
    "Un par de elementos a la vez."
   ]
  },
  {
   "cell_type": "code",
   "execution_count": 27,
   "metadata": {},
   "outputs": [
    {
     "data": {
      "text/plain": [
       "{2, 4, 6, 8, 10, 12}"
      ]
     },
     "execution_count": 27,
     "metadata": {},
     "output_type": "execute_result"
    }
   ],
   "source": [
    "pares.add(12)\n",
    "pares"
   ]
  },
  {
   "cell_type": "code",
   "execution_count": 28,
   "metadata": {},
   "outputs": [
    {
     "data": {
      "text/plain": [
       "{2, 4, 6, 8, 10, 12, 14, 16}"
      ]
     },
     "execution_count": 28,
     "metadata": {},
     "output_type": "execute_result"
    }
   ],
   "source": [
    "pares.update([14,16])\n",
    "pares"
   ]
  },
  {
   "cell_type": "markdown",
   "metadata": {},
   "source": [
    "Eliminar un elemento de un conjunto\n",
    "Descripción: Usando el set creado en el ejercicio 2, elimina un elemento especificado por el usuario."
   ]
  },
  {
   "cell_type": "code",
   "execution_count": 30,
   "metadata": {},
   "outputs": [
    {
     "data": {
      "text/plain": [
       "{2, 6, 8, 10, 12, 14, 16}"
      ]
     },
     "execution_count": 30,
     "metadata": {},
     "output_type": "execute_result"
    }
   ],
   "source": [
    "pares.remove(int(input('¿Qué elemento quieres eliminar?')))\n",
    "pares"
   ]
  },
  {
   "cell_type": "markdown",
   "metadata": {},
   "source": [
    "Verificar la pertenencia de un elemento en un conjunto\n",
    "Descripción: Usando el set creado en el ejercicio 2, verifica si un elemento específico está presente en él."
   ]
  },
  {
   "cell_type": "code",
   "execution_count": 31,
   "metadata": {},
   "outputs": [
    {
     "data": {
      "text/plain": [
       "True"
      ]
     },
     "execution_count": 31,
     "metadata": {},
     "output_type": "execute_result"
    }
   ],
   "source": [
    "12 in pares"
   ]
  },
  {
   "cell_type": "markdown",
   "metadata": {},
   "source": [
    "Realizar una unión de conjuntos\n",
    "Descripción: Dados dos conjuntos, realiza una unión de ellos."
   ]
  },
  {
   "cell_type": "code",
   "execution_count": 32,
   "metadata": {},
   "outputs": [],
   "source": [
    "impares = {1,3,5}"
   ]
  },
  {
   "cell_type": "code",
   "execution_count": 33,
   "metadata": {},
   "outputs": [
    {
     "data": {
      "text/plain": [
       "{1, 2, 3, 5, 6, 8, 10, 12, 14, 16}"
      ]
     },
     "execution_count": 33,
     "metadata": {},
     "output_type": "execute_result"
    }
   ],
   "source": [
    "todos = pares.union(impares)\n",
    "todos"
   ]
  },
  {
   "cell_type": "markdown",
   "metadata": {},
   "source": [
    "Realizar una intersección de conjuntos\n",
    "Descripción: Usando dos conjuntos de datos definidos en el ejercicio anterior, realiza una intersección de ellos."
   ]
  },
  {
   "cell_type": "code",
   "execution_count": 34,
   "metadata": {},
   "outputs": [
    {
     "data": {
      "text/plain": [
       "{2, 6, 8, 10, 12, 14, 16}"
      ]
     },
     "execution_count": 34,
     "metadata": {},
     "output_type": "execute_result"
    }
   ],
   "source": [
    "pares.intersection(todos)"
   ]
  },
  {
   "cell_type": "markdown",
   "metadata": {},
   "source": [
    "Realizar una diferencia de conjuntos\n",
    "Descripción: Usando dos conjuntos de datos definidos en el ejercicio anterior, realiza una diferencia entre ellos."
   ]
  },
  {
   "cell_type": "code",
   "execution_count": 35,
   "metadata": {},
   "outputs": [
    {
     "data": {
      "text/plain": [
       "{2, 6, 8, 10, 12, 14, 16}"
      ]
     },
     "execution_count": 35,
     "metadata": {},
     "output_type": "execute_result"
    }
   ],
   "source": [
    "todos.difference(impares)"
   ]
  },
  {
   "cell_type": "markdown",
   "metadata": {},
   "source": [
    "Verificar si un conjunto es subconjunto de otro\n",
    "Descripción: Dados dos conjuntos, verifica si uno es subconjunto del otro."
   ]
  },
  {
   "cell_type": "code",
   "execution_count": 36,
   "metadata": {},
   "outputs": [
    {
     "data": {
      "text/plain": [
       "True"
      ]
     },
     "execution_count": 36,
     "metadata": {},
     "output_type": "execute_result"
    }
   ],
   "source": [
    "pares.issubset(todos)"
   ]
  }
 ],
 "metadata": {
  "kernelspec": {
   "display_name": "base",
   "language": "python",
   "name": "python3"
  },
  "language_info": {
   "codemirror_mode": {
    "name": "ipython",
    "version": 3
   },
   "file_extension": ".py",
   "mimetype": "text/x-python",
   "name": "python",
   "nbconvert_exporter": "python",
   "pygments_lexer": "ipython3",
   "version": "3.9.7"
  }
 },
 "nbformat": 4,
 "nbformat_minor": 2
}
